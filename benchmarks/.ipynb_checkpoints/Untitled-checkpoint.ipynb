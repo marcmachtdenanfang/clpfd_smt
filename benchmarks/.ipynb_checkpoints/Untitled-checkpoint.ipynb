{
 "cells": [
  {
   "cell_type": "code",
   "execution_count": 1,
   "metadata": {},
   "outputs": [],
   "source": [
    "import pandas as pd\n",
    "import matplotlib.pyplot as plt\n",
    "#https://timodenk.com/blog/exporting-matplotlib-plots-to-latex/\n",
    "#http://jonathansoma.com/lede/data-studio/matplotlib/adding-grid-lines-to-a-matplotlib-chart/"
   ]
  },
  {
   "cell_type": "code",
   "execution_count": 2,
   "metadata": {
    "scrolled": true
   },
   "outputs": [
    {
     "data": {
      "text/html": [
       "<div>\n",
       "<style scoped>\n",
       "    .dataframe tbody tr th:only-of-type {\n",
       "        vertical-align: middle;\n",
       "    }\n",
       "\n",
       "    .dataframe tbody tr th {\n",
       "        vertical-align: top;\n",
       "    }\n",
       "\n",
       "    .dataframe thead th {\n",
       "        text-align: right;\n",
       "    }\n",
       "</style>\n",
       "<table border=\"1\" class=\"dataframe\">\n",
       "  <thead>\n",
       "    <tr style=\"text-align: right;\">\n",
       "      <th></th>\n",
       "      <th>clpfd_execution_time</th>\n",
       "      <th>clpfd_labeling_time</th>\n",
       "    </tr>\n",
       "    <tr>\n",
       "      <th>bibd</th>\n",
       "      <th></th>\n",
       "      <th></th>\n",
       "    </tr>\n",
       "  </thead>\n",
       "  <tbody>\n",
       "    <tr>\n",
       "      <th>1</th>\n",
       "      <td>0.023</td>\n",
       "      <td>0.006</td>\n",
       "    </tr>\n",
       "    <tr>\n",
       "      <th>2</th>\n",
       "      <td>0.004</td>\n",
       "      <td>0.003</td>\n",
       "    </tr>\n",
       "    <tr>\n",
       "      <th>3</th>\n",
       "      <td>0.005</td>\n",
       "      <td>0.005</td>\n",
       "    </tr>\n",
       "    <tr>\n",
       "      <th>4</th>\n",
       "      <td>0.022</td>\n",
       "      <td>0.015</td>\n",
       "    </tr>\n",
       "    <tr>\n",
       "      <th>5</th>\n",
       "      <td>0.019</td>\n",
       "      <td>1.902</td>\n",
       "    </tr>\n",
       "    <tr>\n",
       "      <th>6</th>\n",
       "      <td>0.041</td>\n",
       "      <td>0.010</td>\n",
       "    </tr>\n",
       "    <tr>\n",
       "      <th>7</th>\n",
       "      <td>0.033</td>\n",
       "      <td>0.013</td>\n",
       "    </tr>\n",
       "    <tr>\n",
       "      <th>8</th>\n",
       "      <td>0.014</td>\n",
       "      <td>0.018</td>\n",
       "    </tr>\n",
       "    <tr>\n",
       "      <th>9</th>\n",
       "      <td>0.023</td>\n",
       "      <td>0.029</td>\n",
       "    </tr>\n",
       "    <tr>\n",
       "      <th>10</th>\n",
       "      <td>0.045</td>\n",
       "      <td>0.016</td>\n",
       "    </tr>\n",
       "  </tbody>\n",
       "</table>\n",
       "</div>"
      ],
      "text/plain": [
       "      clpfd_execution_time  clpfd_labeling_time\n",
       "bibd                                           \n",
       "1                    0.023                0.006\n",
       "2                    0.004                0.003\n",
       "3                    0.005                0.005\n",
       "4                    0.022                0.015\n",
       "5                    0.019                1.902\n",
       "6                    0.041                0.010\n",
       "7                    0.033                0.013\n",
       "8                    0.014                0.018\n",
       "9                    0.023                0.029\n",
       "10                   0.045                0.016"
      ]
     },
     "execution_count": 2,
     "metadata": {},
     "output_type": "execute_result"
    }
   ],
   "source": [
    "clpfd_bibd = [[1,  0.023, 0.006],\n",
    "[2,  0.004, 0.003],\n",
    "[3,  0.005, 0.005],\n",
    "[4,  0.022, 0.015],\n",
    "[5,  0.019, 1.902],\n",
    "[6,  0.041, 0.010],\n",
    "[7,  0.033, 0.013],\n",
    "[8,  0.014, 0.018],\n",
    "[9,  0.023, 0.029],\n",
    "[10, 0.045, 0.016]]\n",
    "df_clpfd_bibd = pd.DataFrame(clpfd_bibd, columns=['bibd', 'clpfd_execution_time', 'clpfd_labeling_time'])\n",
    "df_clpfd_bibd.set_index('bibd')"
   ]
  },
  {
   "cell_type": "code",
   "execution_count": 3,
   "metadata": {},
   "outputs": [
    {
     "data": {
      "text/plain": [
       "<matplotlib.axes._subplots.AxesSubplot at 0x7f831778c210>"
      ]
     },
     "execution_count": 3,
     "metadata": {},
     "output_type": "execute_result"
    },
    {
     "data": {
      "text/plain": [
       "<Figure size 432x288 with 0 Axes>"
      ]
     },
     "metadata": {},
     "output_type": "display_data"
    },
    {
     "data": {
      "image/png": "[encoded data removed]",
      "text/plain": [
       "<Figure size 864x648 with 1 Axes>"
      ]
     },
     "metadata": {
      "needs_background": "light"
     },
     "output_type": "display_data"
    }
   ],
   "source": [
    "# https://pandas.pydata.org/pandas-docs/version/0.13/visualization.html\n",
    "# http://jonathansoma.com/lede/algorithms-2017/classes/fuzziness-matplotlib/understand-df-plot-in-pandas/\n",
    "# http://pandas-docs.github.io/pandas-docs-travis/user_guide/visualization.html\n",
    "\n",
    "plt.figure()\n",
    "\"\"\"\n",
    "ax = df_clpfd_bibd.plot(x='bibd', logy= True,secondary_y=['execution_time'], figsize=(12,9))\n",
    "plt.xticks(df_clpfd_bibd.index.values)\n",
    "ax.set_ylabel('Program execution')\n",
    "ax.right_ax.set_ylabel('CLPFD labeling execution')\n",
    "plt.legend(loc='best')\n",
    "plt.show();\"\"\"\n",
    "df_clpfd_bibd.plot.bar(x='bibd', logy=True,figsize=(12,9))\n",
    "#df_clpfd_bibd.labeling_time.plot(secondary_y=True, style='g')"
   ]
  },
  {
   "cell_type": "code",
   "execution_count": 4,
   "metadata": {
    "scrolled": true
   },
   "outputs": [
    {
     "data": {
      "text/html": [
       "<div>\n",
       "<style scoped>\n",
       "    .dataframe tbody tr th:only-of-type {\n",
       "        vertical-align: middle;\n",
       "    }\n",
       "\n",
       "    .dataframe tbody tr th {\n",
       "        vertical-align: top;\n",
       "    }\n",
       "\n",
       "    .dataframe thead th {\n",
       "        text-align: right;\n",
       "    }\n",
       "</style>\n",
       "<table border=\"1\" class=\"dataframe\">\n",
       "  <thead>\n",
       "    <tr style=\"text-align: right;\">\n",
       "      <th></th>\n",
       "      <th>z3_execution_time</th>\n",
       "      <th>z3_compilation_time</th>\n",
       "      <th>z3_labeling_time</th>\n",
       "    </tr>\n",
       "    <tr>\n",
       "      <th>bibd</th>\n",
       "      <th></th>\n",
       "      <th></th>\n",
       "      <th></th>\n",
       "    </tr>\n",
       "  </thead>\n",
       "  <tbody>\n",
       "    <tr>\n",
       "      <th>1</th>\n",
       "      <td>0.070</td>\n",
       "      <td>0.020</td>\n",
       "      <td>0.063</td>\n",
       "    </tr>\n",
       "    <tr>\n",
       "      <th>2</th>\n",
       "      <td>0.201</td>\n",
       "      <td>0.030</td>\n",
       "      <td>1.483</td>\n",
       "    </tr>\n",
       "    <tr>\n",
       "      <th>3</th>\n",
       "      <td>0.269</td>\n",
       "      <td>0.041</td>\n",
       "      <td>4.775</td>\n",
       "    </tr>\n",
       "    <tr>\n",
       "      <th>4</th>\n",
       "      <td>4.070</td>\n",
       "      <td>0.153</td>\n",
       "      <td>311.206</td>\n",
       "    </tr>\n",
       "    <tr>\n",
       "      <th>5</th>\n",
       "      <td>4.194</td>\n",
       "      <td>0.161</td>\n",
       "      <td>276.538</td>\n",
       "    </tr>\n",
       "    <tr>\n",
       "      <th>6</th>\n",
       "      <td>15.279</td>\n",
       "      <td>0.292</td>\n",
       "      <td>294.274</td>\n",
       "    </tr>\n",
       "    <tr>\n",
       "      <th>7</th>\n",
       "      <td>9.762</td>\n",
       "      <td>0.229</td>\n",
       "      <td>343.529</td>\n",
       "    </tr>\n",
       "    <tr>\n",
       "      <th>8</th>\n",
       "      <td>5.435</td>\n",
       "      <td>0.187</td>\n",
       "      <td>542.294</td>\n",
       "    </tr>\n",
       "    <tr>\n",
       "      <th>9</th>\n",
       "      <td>8.881</td>\n",
       "      <td>0.230</td>\n",
       "      <td>1088.211</td>\n",
       "    </tr>\n",
       "    <tr>\n",
       "      <th>10</th>\n",
       "      <td>22.589</td>\n",
       "      <td>0.329</td>\n",
       "      <td>839.158</td>\n",
       "    </tr>\n",
       "  </tbody>\n",
       "</table>\n",
       "</div>"
      ],
      "text/plain": [
       "      z3_execution_time  z3_compilation_time  z3_labeling_time\n",
       "bibd                                                          \n",
       "1                 0.070                0.020             0.063\n",
       "2                 0.201                0.030             1.483\n",
       "3                 0.269                0.041             4.775\n",
       "4                 4.070                0.153           311.206\n",
       "5                 4.194                0.161           276.538\n",
       "6                15.279                0.292           294.274\n",
       "7                 9.762                0.229           343.529\n",
       "8                 5.435                0.187           542.294\n",
       "9                 8.881                0.230          1088.211\n",
       "10               22.589                0.329           839.158"
      ]
     },
     "execution_count": 4,
     "metadata": {},
     "output_type": "execute_result"
    }
   ],
   "source": [
    "z3_bibd = [[1, 0.070, 0.020, 0.063],\n",
    "[2, 0.201, 0.030, 1.483],\n",
    "[3, 0.269, 0.041, 4.775],\n",
    "[4, 4.070, 0.153, 311.206],\n",
    "[5, 4.194, 0.161, 276.538],\n",
    "[6, 15.279, 0.292, 294.274],\n",
    "[7, 9.762, 0.229, 343.529],\n",
    "[8, 5.435, 0.187, 542.294],\n",
    "[9, 8.881, 0.230, 1088.211],\n",
    "[10, 22.589, 0.329, 839.158]]\n",
    "df_z3_bibd= pd.DataFrame(z3_bibd, columns=['bibd', 'z3_execution_time', 'z3_compilation_time', 'z3_labeling_time'])\n",
    "df_z3_bibd.set_index('bibd')"
   ]
  },
  {
   "cell_type": "code",
   "execution_count": 5,
   "metadata": {},
   "outputs": [
    {
     "data": {
      "text/plain": [
       "<matplotlib.axes._subplots.AxesSubplot at 0x7f83172fe750>"
      ]
     },
     "execution_count": 5,
     "metadata": {},
     "output_type": "execute_result"
    },
    {
     "data": {
      "image/png": "[encoded data removed]",
      "text/plain": [
       "<Figure size 864x648 with 1 Axes>"
      ]
     },
     "metadata": {
      "needs_background": "light"
     },
     "output_type": "display_data"
    }
   ],
   "source": [
    "df_z3_bibd.plot.bar(x='bibd', logy=True,figsize=(12,9))"
   ]
  },
  {
   "cell_type": "code",
   "execution_count": 6,
   "metadata": {
    "scrolled": false
   },
   "outputs": [
    {
     "data": {
      "text/html": [
       "<div>\n",
       "<style scoped>\n",
       "    .dataframe tbody tr th:only-of-type {\n",
       "        vertical-align: middle;\n",
       "    }\n",
       "\n",
       "    .dataframe tbody tr th {\n",
       "        vertical-align: top;\n",
       "    }\n",
       "\n",
       "    .dataframe thead th {\n",
       "        text-align: right;\n",
       "    }\n",
       "</style>\n",
       "<table border=\"1\" class=\"dataframe\">\n",
       "  <thead>\n",
       "    <tr style=\"text-align: right;\">\n",
       "      <th></th>\n",
       "      <th>bibd</th>\n",
       "      <th>clpfd_execution_time</th>\n",
       "      <th>clpfd_labeling_time</th>\n",
       "      <th>z3_execution_time</th>\n",
       "      <th>z3_compilation_time</th>\n",
       "      <th>z3_labeling_time</th>\n",
       "    </tr>\n",
       "  </thead>\n",
       "  <tbody>\n",
       "    <tr>\n",
       "      <th>0</th>\n",
       "      <td>1</td>\n",
       "      <td>0.023</td>\n",
       "      <td>0.006</td>\n",
       "      <td>0.070</td>\n",
       "      <td>0.020</td>\n",
       "      <td>0.063</td>\n",
       "    </tr>\n",
       "    <tr>\n",
       "      <th>1</th>\n",
       "      <td>2</td>\n",
       "      <td>0.004</td>\n",
       "      <td>0.003</td>\n",
       "      <td>0.201</td>\n",
       "      <td>0.030</td>\n",
       "      <td>1.483</td>\n",
       "    </tr>\n",
       "    <tr>\n",
       "      <th>2</th>\n",
       "      <td>3</td>\n",
       "      <td>0.005</td>\n",
       "      <td>0.005</td>\n",
       "      <td>0.269</td>\n",
       "      <td>0.041</td>\n",
       "      <td>4.775</td>\n",
       "    </tr>\n",
       "    <tr>\n",
       "      <th>3</th>\n",
       "      <td>4</td>\n",
       "      <td>0.022</td>\n",
       "      <td>0.015</td>\n",
       "      <td>4.070</td>\n",
       "      <td>0.153</td>\n",
       "      <td>311.206</td>\n",
       "    </tr>\n",
       "    <tr>\n",
       "      <th>4</th>\n",
       "      <td>5</td>\n",
       "      <td>0.019</td>\n",
       "      <td>1.902</td>\n",
       "      <td>4.194</td>\n",
       "      <td>0.161</td>\n",
       "      <td>276.538</td>\n",
       "    </tr>\n",
       "    <tr>\n",
       "      <th>5</th>\n",
       "      <td>6</td>\n",
       "      <td>0.041</td>\n",
       "      <td>0.010</td>\n",
       "      <td>15.279</td>\n",
       "      <td>0.292</td>\n",
       "      <td>294.274</td>\n",
       "    </tr>\n",
       "    <tr>\n",
       "      <th>6</th>\n",
       "      <td>7</td>\n",
       "      <td>0.033</td>\n",
       "      <td>0.013</td>\n",
       "      <td>9.762</td>\n",
       "      <td>0.229</td>\n",
       "      <td>343.529</td>\n",
       "    </tr>\n",
       "    <tr>\n",
       "      <th>7</th>\n",
       "      <td>8</td>\n",
       "      <td>0.014</td>\n",
       "      <td>0.018</td>\n",
       "      <td>5.435</td>\n",
       "      <td>0.187</td>\n",
       "      <td>542.294</td>\n",
       "    </tr>\n",
       "    <tr>\n",
       "      <th>8</th>\n",
       "      <td>9</td>\n",
       "      <td>0.023</td>\n",
       "      <td>0.029</td>\n",
       "      <td>8.881</td>\n",
       "      <td>0.230</td>\n",
       "      <td>1088.211</td>\n",
       "    </tr>\n",
       "    <tr>\n",
       "      <th>9</th>\n",
       "      <td>10</td>\n",
       "      <td>0.045</td>\n",
       "      <td>0.016</td>\n",
       "      <td>22.589</td>\n",
       "      <td>0.329</td>\n",
       "      <td>839.158</td>\n",
       "    </tr>\n",
       "  </tbody>\n",
       "</table>\n",
       "</div>"
      ],
      "text/plain": [
       "   bibd  clpfd_execution_time  clpfd_labeling_time  z3_execution_time  \\\n",
       "0     1                 0.023                0.006              0.070   \n",
       "1     2                 0.004                0.003              0.201   \n",
       "2     3                 0.005                0.005              0.269   \n",
       "3     4                 0.022                0.015              4.070   \n",
       "4     5                 0.019                1.902              4.194   \n",
       "5     6                 0.041                0.010             15.279   \n",
       "6     7                 0.033                0.013              9.762   \n",
       "7     8                 0.014                0.018              5.435   \n",
       "8     9                 0.023                0.029              8.881   \n",
       "9    10                 0.045                0.016             22.589   \n",
       "\n",
       "   z3_compilation_time  z3_labeling_time  \n",
       "0                0.020             0.063  \n",
       "1                0.030             1.483  \n",
       "2                0.041             4.775  \n",
       "3                0.153           311.206  \n",
       "4                0.161           276.538  \n",
       "5                0.292           294.274  \n",
       "6                0.229           343.529  \n",
       "7                0.187           542.294  \n",
       "8                0.230          1088.211  \n",
       "9                0.329           839.158  "
      ]
     },
     "execution_count": 6,
     "metadata": {},
     "output_type": "execute_result"
    }
   ],
   "source": [
    "df_merged = pd.merge(left=df_clpfd_bibd, right=df_z3_bibd, left_on='bibd', right_on='bibd')\n",
    "df_merged"
   ]
  },
  {
   "cell_type": "code",
   "execution_count": 37,
   "metadata": {},
   "outputs": [
    {
     "data": {
      "text/plain": [
       "Text(0, 0.5, 'Time in seconds')"
      ]
     },
     "execution_count": 37,
     "metadata": {},
     "output_type": "execute_result"
    },
    {
     "data": {
      "image/png": "[encoded data removed]",
      "text/plain": [
       "<Figure size 1080x720 with 1 Axes>"
      ]
     },
     "metadata": {
      "needs_background": "light"
     },
     "output_type": "display_data"
    }
   ],
   "source": [
    "fig,ax = plt.subplots()\n",
    "df_merged.plot.bar(x='bibd', logy=True, figsize=(15,10), ax=ax)\n",
    "ax.grid(linestyle='-.', linewidth=1, color='grey')\n",
    "ax.set_axisbelow(True)\n",
    "ax.set_ylabel('Time in seconds')\n",
    "# Customize the major grid\n",
    "#ax.grid(which='major', linestyle='-', linewidth='0.5', color='red')\n",
    "# Customize the minor grid\n",
    "#ax.grid(which='minor', linestyle=':', linewidth='0.5', color='black')"
   ]
  },
  {
   "cell_type": "code",
   "execution_count": null,
   "metadata": {},
   "outputs": [],
   "source": []
  }
 ],
 "metadata": {
  "kernelspec": {
   "display_name": "Python 3",
   "language": "python",
   "name": "python3"
  },
  "language_info": {
   "codemirror_mode": {
    "name": "ipython",
    "version": 3
   },
   "file_extension": ".py",
   "mimetype": "text/x-python",
   "name": "python",
   "nbconvert_exporter": "python",
   "pygments_lexer": "ipython3",
   "version": "3.7.4"
  }
 },
 "nbformat": 4,
 "nbformat_minor": 4
}
