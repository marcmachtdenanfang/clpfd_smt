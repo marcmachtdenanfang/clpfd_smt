{
 "cells": [
  {
   "cell_type": "code",
   "execution_count": 1,
   "metadata": {},
   "outputs": [],
   "source": [
    "import pandas as pd\n",
    "import matplotlib.pyplot as plt\n",
    "#https://timodenk.com/blog/exporting-matplotlib-plots-to-latex/\n",
    "#http://jonathansoma.com/lede/data-studio/matplotlib/adding-grid-lines-to-a-matplotlib-chart/"
   ]
  },
  {
   "cell_type": "code",
   "execution_count": 2,
   "metadata": {
    "scrolled": true
   },
   "outputs": [
    {
     "data": {
      "text/html": [
       "<div>\n",
       "<style scoped>\n",
       "    .dataframe tbody tr th:only-of-type {\n",
       "        vertical-align: middle;\n",
       "    }\n",
       "\n",
       "    .dataframe tbody tr th {\n",
       "        vertical-align: top;\n",
       "    }\n",
       "\n",
       "    .dataframe thead th {\n",
       "        text-align: right;\n",
       "    }\n",
       "</style>\n",
       "<table border=\"1\" class=\"dataframe\">\n",
       "  <thead>\n",
       "    <tr style=\"text-align: right;\">\n",
       "      <th></th>\n",
       "      <th>clpfd_execution_time</th>\n",
       "      <th>clpfd_labeling_time</th>\n",
       "    </tr>\n",
       "    <tr>\n",
       "      <th>bibd</th>\n",
       "      <th></th>\n",
       "      <th></th>\n",
       "    </tr>\n",
       "  </thead>\n",
       "  <tbody>\n",
       "    <tr>\n",
       "      <th>1</th>\n",
       "      <td>0.023</td>\n",
       "      <td>0.006</td>\n",
       "    </tr>\n",
       "    <tr>\n",
       "      <th>2</th>\n",
       "      <td>0.004</td>\n",
       "      <td>0.003</td>\n",
       "    </tr>\n",
       "    <tr>\n",
       "      <th>3</th>\n",
       "      <td>0.005</td>\n",
       "      <td>0.005</td>\n",
       "    </tr>\n",
       "    <tr>\n",
       "      <th>4</th>\n",
       "      <td>0.022</td>\n",
       "      <td>0.015</td>\n",
       "    </tr>\n",
       "    <tr>\n",
       "      <th>5</th>\n",
       "      <td>0.019</td>\n",
       "      <td>1.902</td>\n",
       "    </tr>\n",
       "    <tr>\n",
       "      <th>6</th>\n",
       "      <td>0.041</td>\n",
       "      <td>0.010</td>\n",
       "    </tr>\n",
       "    <tr>\n",
       "      <th>7</th>\n",
       "      <td>0.033</td>\n",
       "      <td>0.013</td>\n",
       "    </tr>\n",
       "    <tr>\n",
       "      <th>8</th>\n",
       "      <td>0.014</td>\n",
       "      <td>0.018</td>\n",
       "    </tr>\n",
       "    <tr>\n",
       "      <th>9</th>\n",
       "      <td>0.023</td>\n",
       "      <td>0.029</td>\n",
       "    </tr>\n",
       "    <tr>\n",
       "      <th>10</th>\n",
       "      <td>0.045</td>\n",
       "      <td>0.016</td>\n",
       "    </tr>\n",
       "  </tbody>\n",
       "</table>\n",
       "</div>"
      ],
      "text/plain": [
       "      clpfd_execution_time  clpfd_labeling_time\n",
       "bibd                                           \n",
       "1                    0.023                0.006\n",
       "2                    0.004                0.003\n",
       "3                    0.005                0.005\n",
       "4                    0.022                0.015\n",
       "5                    0.019                1.902\n",
       "6                    0.041                0.010\n",
       "7                    0.033                0.013\n",
       "8                    0.014                0.018\n",
       "9                    0.023                0.029\n",
       "10                   0.045                0.016"
      ]
     },
     "execution_count": 2,
     "metadata": {},
     "output_type": "execute_result"
    }
   ],
   "source": [
    "clpfd_bibd = [[1,  0.023, 0.006],\n",
    "[2,  0.004, 0.003],\n",
    "[3,  0.005, 0.005],\n",
    "[4,  0.022, 0.015],\n",
    "[5,  0.019, 1.902],\n",
    "[6,  0.041, 0.010],\n",
    "[7,  0.033, 0.013],\n",
    "[8,  0.014, 0.018],\n",
    "[9,  0.023, 0.029],\n",
    "[10, 0.045, 0.016]]\n",
    "df_clpfd_bibd = pd.DataFrame(clpfd_bibd, columns=['bibd', 'clpfd_execution_time', 'clpfd_labeling_time'])\n",
    "df_clpfd_bibd.set_index('bibd')"
   ]
  },
  {
   "cell_type": "code",
   "execution_count": 3,
   "metadata": {},
   "outputs": [
    {
     "data": {
      "text/plain": [
       "<matplotlib.axes._subplots.AxesSubplot at 0x7fc0faf91d50>"
      ]
     },
     "execution_count": 3,
     "metadata": {},
     "output_type": "execute_result"
    },
    {
     "data": {
      "text/plain": [
       "<Figure size 432x288 with 0 Axes>"
      ]
     },
     "metadata": {},
     "output_type": "display_data"
    },
    {
     "data": {
      "image/png": "[encoded data removed]",
      "text/plain": [
       "<Figure size 864x648 with 1 Axes>"
      ]
     },
     "metadata": {
      "needs_background": "light"
     },
     "output_type": "display_data"
    }
   ],
   "source": [
    "# https://pandas.pydata.org/pandas-docs/version/0.13/visualization.html\n",
    "# http://jonathansoma.com/lede/algorithms-2017/classes/fuzziness-matplotlib/understand-df-plot-in-pandas/\n",
    "# http://pandas-docs.github.io/pandas-docs-travis/user_guide/visualization.html\n",
    "\n",
    "plt.figure()\n",
    "\"\"\"\n",
    "ax = df_clpfd_bibd.plot(x='bibd', logy= True,secondary_y=['execution_time'], figsize=(12,9))\n",
    "plt.xticks(df_clpfd_bibd.index.values)\n",
    "ax.set_ylabel('Program execution')\n",
    "ax.right_ax.set_ylabel('CLPFD labeling execution')\n",
    "plt.legend(loc='best')\n",
    "plt.show();\"\"\"\n",
    "df_clpfd_bibd.plot.bar(x='bibd', logy=True,figsize=(12,9))\n",
    "#df_clpfd_bibd.labeling_time.plot(secondary_y=True, style='g')"
   ]
  },
  {
   "cell_type": "code",
   "execution_count": 4,
   "metadata": {
    "scrolled": true
   },
   "outputs": [
    {
     "data": {
      "text/html": [
       "<div>\n",
       "<style scoped>\n",
       "    .dataframe tbody tr th:only-of-type {\n",
       "        vertical-align: middle;\n",
       "    }\n",
       "\n",
       "    .dataframe tbody tr th {\n",
       "        vertical-align: top;\n",
       "    }\n",
       "\n",
       "    .dataframe thead th {\n",
       "        text-align: right;\n",
       "    }\n",
       "</style>\n",
       "<table border=\"1\" class=\"dataframe\">\n",
       "  <thead>\n",
       "    <tr style=\"text-align: right;\">\n",
       "      <th></th>\n",
       "      <th>clpfd_smt_execution</th>\n",
       "      <th>clpfd_smt_compilation</th>\n",
       "      <th>clpfd_smt_labeling</th>\n",
       "    </tr>\n",
       "    <tr>\n",
       "      <th>bibd</th>\n",
       "      <th></th>\n",
       "      <th></th>\n",
       "      <th></th>\n",
       "    </tr>\n",
       "  </thead>\n",
       "  <tbody>\n",
       "    <tr>\n",
       "      <th>1</th>\n",
       "      <td>0.031</td>\n",
       "      <td>0.021</td>\n",
       "      <td>0.067</td>\n",
       "    </tr>\n",
       "    <tr>\n",
       "      <th>2</th>\n",
       "      <td>0.064</td>\n",
       "      <td>0.034</td>\n",
       "      <td>2.033</td>\n",
       "    </tr>\n",
       "    <tr>\n",
       "      <th>3</th>\n",
       "      <td>0.094</td>\n",
       "      <td>0.046</td>\n",
       "      <td>2.555</td>\n",
       "    </tr>\n",
       "    <tr>\n",
       "      <th>4</th>\n",
       "      <td>0.575</td>\n",
       "      <td>0.172</td>\n",
       "      <td>168.888</td>\n",
       "    </tr>\n",
       "    <tr>\n",
       "      <th>5</th>\n",
       "      <td>0.743</td>\n",
       "      <td>0.184</td>\n",
       "      <td>359.248</td>\n",
       "    </tr>\n",
       "    <tr>\n",
       "      <th>6</th>\n",
       "      <td>2.409</td>\n",
       "      <td>0.295</td>\n",
       "      <td>258.781</td>\n",
       "    </tr>\n",
       "    <tr>\n",
       "      <th>7</th>\n",
       "      <td>1.972</td>\n",
       "      <td>0.274</td>\n",
       "      <td>349.673</td>\n",
       "    </tr>\n",
       "    <tr>\n",
       "      <th>8</th>\n",
       "      <td>1.252</td>\n",
       "      <td>0.173</td>\n",
       "      <td>1076.817</td>\n",
       "    </tr>\n",
       "    <tr>\n",
       "      <th>9</th>\n",
       "      <td>2.046</td>\n",
       "      <td>0.236</td>\n",
       "      <td>928.563</td>\n",
       "    </tr>\n",
       "    <tr>\n",
       "      <th>10</th>\n",
       "      <td>4.895</td>\n",
       "      <td>0.324</td>\n",
       "      <td>943.744</td>\n",
       "    </tr>\n",
       "  </tbody>\n",
       "</table>\n",
       "</div>"
      ],
      "text/plain": [
       "      clpfd_smt_execution  clpfd_smt_compilation  clpfd_smt_labeling\n",
       "bibd                                                                \n",
       "1                   0.031                  0.021               0.067\n",
       "2                   0.064                  0.034               2.033\n",
       "3                   0.094                  0.046               2.555\n",
       "4                   0.575                  0.172             168.888\n",
       "5                   0.743                  0.184             359.248\n",
       "6                   2.409                  0.295             258.781\n",
       "7                   1.972                  0.274             349.673\n",
       "8                   1.252                  0.173            1076.817\n",
       "9                   2.046                  0.236             928.563\n",
       "10                  4.895                  0.324             943.744"
      ]
     },
     "execution_count": 4,
     "metadata": {},
     "output_type": "execute_result"
    }
   ],
   "source": [
    "z3_bibd = [[1, 0.031, 0.021, 0.067],\n",
    "[2, 0.064, 0.034, 2.033],\n",
    "[3, 0.094, 0.046, 2.555],\n",
    "[4, 0.575, 0.172, 168.888],\n",
    "[5, 0.743, 0.184, 359.248],\n",
    "[6, 2.409, 0.295, 258.781],\n",
    "[7, 1.972, 0.274, 349.673],\n",
    "[8, 1.252, 0.173, 1076.817],\n",
    "[9, 2.046, 0.236, 928.563],\n",
    "[10, 4.895, 0.324, 943.744]]\n",
    "df_z3_bibd= pd.DataFrame(z3_bibd, columns=['bibd', 'clpfd_smt_execution', 'clpfd_smt_compilation', 'clpfd_smt_labeling'])\n",
    "df_z3_bibd.set_index('bibd')"
   ]
  },
  {
   "cell_type": "code",
   "execution_count": 5,
   "metadata": {},
   "outputs": [
    {
     "data": {
      "text/plain": [
       "<matplotlib.axes._subplots.AxesSubplot at 0x7fc0fab61e50>"
      ]
     },
     "execution_count": 5,
     "metadata": {},
     "output_type": "execute_result"
    },
    {
     "data": {
      "image/png": "[encoded data removed]",
      "text/plain": [
       "<Figure size 864x648 with 1 Axes>"
      ]
     },
     "metadata": {
      "needs_background": "light"
     },
     "output_type": "display_data"
    }
   ],
   "source": [
    "df_z3_bibd.plot.bar(x='bibd', logy=True,figsize=(12,9))"
   ]
  },
  {
   "cell_type": "code",
   "execution_count": 6,
   "metadata": {
    "scrolled": false
   },
   "outputs": [],
   "source": [
    "df_merged = pd.merge(left=df_clpfd_bibd, right=df_z3_bibd, left_on='bibd', right_on='bibd')\n",
    "#df_merged['z3_labeling_ex_compilation'] = df_merged['z3_labeling'] - df_merged['z3_compilation']\n",
    "#df_dropped = df_merged.drop(columns=['z3_labeling'])\n",
    "#df_dropped"
   ]
  },
  {
   "cell_type": "code",
   "execution_count": 7,
   "metadata": {
    "scrolled": false
   },
   "outputs": [
    {
     "data": {
      "image/png": "[encoded data removed]",
      "text/plain": [
       "<Figure size 1080x720 with 1 Axes>"
      ]
     },
     "metadata": {
      "needs_background": "light"
     },
     "output_type": "display_data"
    }
   ],
   "source": [
    "fig,ax = plt.subplots()\n",
    "df_merged.plot.bar(x='bibd', logy=True, figsize=(15,10), ax=ax)\n",
    "ax.grid(which='major', linestyle='-.', linewidth=1, color='black')\n",
    "ax.grid(which='minor', linestyle=':', linewidth='0.3', color='grey')\n",
    "ax.set_axisbelow(True)\n",
    "ax.set_ylabel('Time in seconds - logarithmic scale')\n",
    "ax.xaxis.grid(False)\n",
    "ax.legend(loc='best')\n",
    "fig.savefig('abc')"
   ]
  },
  {
   "cell_type": "code",
   "execution_count": 9,
   "metadata": {},
   "outputs": [],
   "source": [
    "#df_merged['z3_labeling'].plot(x='bibd', kind='bar')"
   ]
  },
  {
   "cell_type": "code",
   "execution_count": null,
   "metadata": {},
   "outputs": [],
   "source": [
    "fig,ax = plt.subplots()\n",
    "df_dropped.plot.bar(x='bibd', logy=True, figsize=(15,10), ax=ax)\n",
    "ax.grid(which='major', linestyle='-.', linewidth=1, color='grey')\n",
    "ax.grid(which='minor', linestyle=':', linewidth='0.3', color='black')\n",
    "ax.set_axisbelow(True)\n",
    "ax.set_ylabel('Time in seconds - logarithmic scale')\n",
    "ax.xaxis.grid(False)\n",
    "ax.legend(loc='best')"
   ]
  },
  {
   "cell_type": "code",
   "execution_count": null,
   "metadata": {},
   "outputs": [],
   "source": []
  }
 ],
 "metadata": {
  "kernelspec": {
   "display_name": "Python 3",
   "language": "python",
   "name": "python3"
  },
  "language_info": {
   "codemirror_mode": {
    "name": "ipython",
    "version": 3
   },
   "file_extension": ".py",
   "mimetype": "text/x-python",
   "name": "python",
   "nbconvert_exporter": "python",
   "pygments_lexer": "ipython3",
   "version": "3.7.4"
  }
 },
 "nbformat": 4,
 "nbformat_minor": 4
}
